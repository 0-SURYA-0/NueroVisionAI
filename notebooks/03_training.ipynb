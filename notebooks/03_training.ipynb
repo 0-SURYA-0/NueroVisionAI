{
 "cells": [
  {
   "cell_type": "code",
   "execution_count": 1,
   "id": "c0d453cc",
   "metadata": {},
   "outputs": [],
   "source": [
    "import os, sys, json, time, warnings\n",
    "warnings.filterwarnings(\"ignore\")\n",
    "\n",
    "import numpy as np\n",
    "import matplotlib.pyplot as plt\n",
    "\n",
    "import torch\n",
    "import torch.nn as nn\n",
    "import torch.optim as optim\n",
    "from torch.utils.data import TensorDataset, DataLoader\n",
    "from torch.cuda.amp import autocast, GradScaler\n",
    "from tqdm.auto import tqdm"
   ]
  },
  {
   "cell_type": "code",
   "execution_count": 2,
   "id": "d128abe4",
   "metadata": {},
   "outputs": [],
   "source": [
    "NB_DIR = os.path.abspath(os.getcwd())\n",
    "ROOT_DIR = os.path.abspath(os.path.join(NB_DIR, \"..\"))\n",
    "if ROOT_DIR not in sys.path:\n",
    "    sys.path.append(ROOT_DIR)\n",
    "\n",
    "from core.model import TumorNet34Bayes\n",
    "from core.utils import set_seed, FocalLoss, EarlyStoppingAUC, compute_metrics, save_json\n",
    "\n",
    "# Root results folder\n",
    "ROOT_RESULTS = r\"../results\"\n",
    "CKPT_DIR     = os.path.join(ROOT_RESULTS, \"checkpoints\")\n",
    "VIZ_DIR      = os.path.join(ROOT_RESULTS, \"visualizations\")\n",
    "LOGS_DIR     = os.path.join(ROOT_RESULTS, \"logs\")\n",
    "\n",
    "for d in [ROOT_RESULTS, CKPT_DIR, VIZ_DIR, LOGS_DIR]:\n",
    "    os.makedirs(d, exist_ok=True)"
   ]
  },
  {
   "cell_type": "code",
   "execution_count": 3,
   "id": "f108bf47",
   "metadata": {},
   "outputs": [
    {
     "name": "stdout",
     "output_type": "stream",
     "text": [
      "Device: cuda\n"
     ]
    }
   ],
   "source": [
    "set_seed(42)\n",
    "torch.backends.cudnn.benchmark = True\n",
    "device = torch.device(\"cuda\" if torch.cuda.is_available() else \"cpu\")\n",
    "print(\"Device:\", device)"
   ]
  },
  {
   "cell_type": "code",
   "execution_count": 4,
   "id": "ea5d8f94",
   "metadata": {},
   "outputs": [
    {
     "name": "stdout",
     "output_type": "stream",
     "text": [
      "Train batches: 175 | Val batches: 38\n"
     ]
    }
   ],
   "source": [
    "X_train = np.load(os.path.join(ROOT_DIR, \"data\", \"processed\", \"X_train.npy\"))\n",
    "y_train = np.load(os.path.join(ROOT_DIR, \"data\", \"processed\", \"y_train.npy\"))\n",
    "X_val   = np.load(os.path.join(ROOT_DIR, \"data\", \"processed\", \"X_val.npy\"))\n",
    "y_val   = np.load(os.path.join(ROOT_DIR, \"data\", \"processed\", \"y_val.npy\"))\n",
    "\n",
    "X_train_t = torch.tensor(X_train, dtype=torch.float32).permute(0,3,1,2)\n",
    "y_train_t = torch.tensor(y_train, dtype=torch.float32).unsqueeze(1)\n",
    "X_val_t   = torch.tensor(X_val,   dtype=torch.float32).permute(0,3,1,2)\n",
    "y_val_t   = torch.tensor(y_val,   dtype=torch.float32).unsqueeze(1)\n",
    "\n",
    "BATCH_SIZE = 16\n",
    "NUM_WORKERS = 0  \n",
    "train_loader = DataLoader(TensorDataset(X_train_t, y_train_t), batch_size=BATCH_SIZE, shuffle=True,  num_workers=NUM_WORKERS, pin_memory=True)\n",
    "val_loader   = DataLoader(TensorDataset(X_val_t,   y_val_t),   batch_size=BATCH_SIZE, shuffle=False, num_workers=NUM_WORKERS, pin_memory=True)\n",
    "\n",
    "print(f\"Train batches: {len(train_loader)} | Val batches: {len(val_loader)}\")"
   ]
  },
  {
   "cell_type": "code",
   "execution_count": 5,
   "id": "87fc2fd9",
   "metadata": {},
   "outputs": [],
   "source": [
    "model = TumorNet34Bayes(dropout_p=0.4).to(device)\n",
    "\n",
    "criterion = FocalLoss(alpha=1.0, gamma=2.0, reduction='none')\n",
    "optimizer = optim.AdamW(model.parameters(), lr=1e-4, weight_decay=1e-4)\n",
    "scheduler = torch.optim.lr_scheduler.CosineAnnealingWarmRestarts(optimizer, T_0=5, T_mult=2)\n",
    "\n",
    "scaler = GradScaler()\n",
    "early = EarlyStoppingAUC(patience=7, min_delta=1e-4)\n",
    "\n",
    "EPOCHS = 12\n",
    "best_val_auc = -1.0\n",
    "history = {\"train_loss\": [], \"val_loss\": [], \"val_acc\": [], \"val_auc\": [], \"val_f1\": []}"
   ]
  },
  {
   "cell_type": "code",
   "execution_count": 6,
   "id": "3909aa7a",
   "metadata": {},
   "outputs": [
    {
     "data": {
      "application/vnd.jupyter.widget-view+json": {
       "model_id": "c260c4ee199e4b6597e8fe38ab16d9cd",
       "version_major": 2,
       "version_minor": 0
      },
      "text/plain": [
       "Epoch 1/12 [train]:   0%|          | 0/175 [00:00<?, ?it/s]"
      ]
     },
     "metadata": {},
     "output_type": "display_data"
    },
    {
     "data": {
      "application/vnd.jupyter.widget-view+json": {
       "model_id": "dc40864f061a447a8f22eb2eeef90a96",
       "version_major": 2,
       "version_minor": 0
      },
      "text/plain": [
       "Epoch 1/12 [val]  :   0%|          | 0/38 [00:00<?, ?it/s]"
      ]
     },
     "metadata": {},
     "output_type": "display_data"
    },
    {
     "name": "stdout",
     "output_type": "stream",
     "text": [
      "Epoch 1/12 | Train 1.3337 | Val 1.3907 | AUC 0.9761 | Acc 0.8467 | F1 0.8647\n",
      "✅ Saved best checkpoint (by AUC)\n"
     ]
    },
    {
     "data": {
      "application/vnd.jupyter.widget-view+json": {
       "model_id": "d79cfe9641d84500a38a448bf9c9077c",
       "version_major": 2,
       "version_minor": 0
      },
      "text/plain": [
       "Epoch 2/12 [train]:   0%|          | 0/175 [00:00<?, ?it/s]"
      ]
     },
     "metadata": {},
     "output_type": "display_data"
    },
    {
     "data": {
      "application/vnd.jupyter.widget-view+json": {
       "model_id": "f666bb06c03349df85277961591cad2c",
       "version_major": 2,
       "version_minor": 0
      },
      "text/plain": [
       "Epoch 2/12 [val]  :   0%|          | 0/38 [00:00<?, ?it/s]"
      ]
     },
     "metadata": {},
     "output_type": "display_data"
    },
    {
     "name": "stdout",
     "output_type": "stream",
     "text": [
      "Epoch 2/12 | Train 0.7235 | Val 1.3483 | AUC 0.9879 | Acc 0.8367 | F1 0.8584\n",
      "✅ Saved best checkpoint (by AUC)\n"
     ]
    },
    {
     "data": {
      "application/vnd.jupyter.widget-view+json": {
       "model_id": "cd70b236dee247c49ea508b84bd66770",
       "version_major": 2,
       "version_minor": 0
      },
      "text/plain": [
       "Epoch 3/12 [train]:   0%|          | 0/175 [00:00<?, ?it/s]"
      ]
     },
     "metadata": {},
     "output_type": "display_data"
    },
    {
     "data": {
      "application/vnd.jupyter.widget-view+json": {
       "model_id": "cdfd23ef0373479d870d93e8e3e07a4a",
       "version_major": 2,
       "version_minor": 0
      },
      "text/plain": [
       "Epoch 3/12 [val]  :   0%|          | 0/38 [00:00<?, ?it/s]"
      ]
     },
     "metadata": {},
     "output_type": "display_data"
    },
    {
     "name": "stdout",
     "output_type": "stream",
     "text": [
      "Epoch 3/12 | Train 0.5080 | Val 1.6888 | AUC 0.9895 | Acc 0.8133 | F1 0.8423\n",
      "✅ Saved best checkpoint (by AUC)\n"
     ]
    },
    {
     "data": {
      "application/vnd.jupyter.widget-view+json": {
       "model_id": "c626244d91474cf5b6abe1731a18dd59",
       "version_major": 2,
       "version_minor": 0
      },
      "text/plain": [
       "Epoch 4/12 [train]:   0%|          | 0/175 [00:00<?, ?it/s]"
      ]
     },
     "metadata": {},
     "output_type": "display_data"
    },
    {
     "data": {
      "application/vnd.jupyter.widget-view+json": {
       "model_id": "ec83cdb068af4112aa10a68c12f7e439",
       "version_major": 2,
       "version_minor": 0
      },
      "text/plain": [
       "Epoch 4/12 [val]  :   0%|          | 0/38 [00:00<?, ?it/s]"
      ]
     },
     "metadata": {},
     "output_type": "display_data"
    },
    {
     "name": "stdout",
     "output_type": "stream",
     "text": [
      "Epoch 4/12 | Train 0.4128 | Val 1.4018 | AUC 0.9827 | Acc 0.8983 | F1 0.8881\n"
     ]
    },
    {
     "data": {
      "application/vnd.jupyter.widget-view+json": {
       "model_id": "56c31f609ec545418417620c45ed3b90",
       "version_major": 2,
       "version_minor": 0
      },
      "text/plain": [
       "Epoch 5/12 [train]:   0%|          | 0/175 [00:00<?, ?it/s]"
      ]
     },
     "metadata": {},
     "output_type": "display_data"
    },
    {
     "data": {
      "application/vnd.jupyter.widget-view+json": {
       "model_id": "6918dca51c2242f0a83698dd05e19117",
       "version_major": 2,
       "version_minor": 0
      },
      "text/plain": [
       "Epoch 5/12 [val]  :   0%|          | 0/38 [00:00<?, ?it/s]"
      ]
     },
     "metadata": {},
     "output_type": "display_data"
    },
    {
     "name": "stdout",
     "output_type": "stream",
     "text": [
      "Epoch 5/12 | Train 0.3310 | Val 0.6526 | AUC 0.9876 | Acc 0.9467 | F1 0.9444\n"
     ]
    },
    {
     "data": {
      "application/vnd.jupyter.widget-view+json": {
       "model_id": "ae2063793cc8452a8c6b095ecb5439c5",
       "version_major": 2,
       "version_minor": 0
      },
      "text/plain": [
       "Epoch 6/12 [train]:   0%|          | 0/175 [00:00<?, ?it/s]"
      ]
     },
     "metadata": {},
     "output_type": "display_data"
    },
    {
     "data": {
      "application/vnd.jupyter.widget-view+json": {
       "model_id": "90a17a33d61f446bb36cc4acb508f05b",
       "version_major": 2,
       "version_minor": 0
      },
      "text/plain": [
       "Epoch 6/12 [val]  :   0%|          | 0/38 [00:00<?, ?it/s]"
      ]
     },
     "metadata": {},
     "output_type": "display_data"
    },
    {
     "name": "stdout",
     "output_type": "stream",
     "text": [
      "Epoch 6/12 | Train 0.4119 | Val 1.1841 | AUC 0.9886 | Acc 0.8817 | F1 0.8673\n"
     ]
    },
    {
     "data": {
      "application/vnd.jupyter.widget-view+json": {
       "model_id": "c7eb09e62ac6426ba0a49e8bfa973313",
       "version_major": 2,
       "version_minor": 0
      },
      "text/plain": [
       "Epoch 7/12 [train]:   0%|          | 0/175 [00:00<?, ?it/s]"
      ]
     },
     "metadata": {},
     "output_type": "display_data"
    },
    {
     "data": {
      "application/vnd.jupyter.widget-view+json": {
       "model_id": "b6b7e136fba348918b71b563fb5afe61",
       "version_major": 2,
       "version_minor": 0
      },
      "text/plain": [
       "Epoch 7/12 [val]  :   0%|          | 0/38 [00:00<?, ?it/s]"
      ]
     },
     "metadata": {},
     "output_type": "display_data"
    },
    {
     "name": "stdout",
     "output_type": "stream",
     "text": [
      "Epoch 7/12 | Train 0.3815 | Val 0.9693 | AUC 0.9860 | Acc 0.9217 | F1 0.9260\n"
     ]
    },
    {
     "data": {
      "application/vnd.jupyter.widget-view+json": {
       "model_id": "37ff2dd6ebf54b3982866a60a481731a",
       "version_major": 2,
       "version_minor": 0
      },
      "text/plain": [
       "Epoch 8/12 [train]:   0%|          | 0/175 [00:00<?, ?it/s]"
      ]
     },
     "metadata": {},
     "output_type": "display_data"
    },
    {
     "data": {
      "application/vnd.jupyter.widget-view+json": {
       "model_id": "ce8bb64fe2244271b578f95387e7cd8f",
       "version_major": 2,
       "version_minor": 0
      },
      "text/plain": [
       "Epoch 8/12 [val]  :   0%|          | 0/38 [00:00<?, ?it/s]"
      ]
     },
     "metadata": {},
     "output_type": "display_data"
    },
    {
     "name": "stdout",
     "output_type": "stream",
     "text": [
      "Epoch 8/12 | Train 0.2651 | Val 0.6901 | AUC 0.9876 | Acc 0.9633 | F1 0.9637\n",
      "⏹️ Early stopping triggered\n"
     ]
    }
   ],
   "source": [
    "for epoch in range(1, EPOCHS+1):\n",
    "    model.train()\n",
    "    running_loss = 0.0\n",
    "\n",
    "    pbar = tqdm(train_loader, desc=f\"Epoch {epoch}/{EPOCHS} [train]\", leave=False)\n",
    "    for xb, yb in pbar:\n",
    "        xb, yb = xb.to(device, non_blocking=True), yb.to(device, non_blocking=True)\n",
    "\n",
    "        optimizer.zero_grad(set_to_none=True)\n",
    "\n",
    "        with autocast(enabled=True):\n",
    "            logits, probs, conf = model(xb)                      \n",
    "            per_sample_loss = criterion(logits, yb)\n",
    "            loss = (per_sample_loss * torch.clamp(conf, 0.1, 1.0)).mean()\n",
    "\n",
    "        scaler.scale(loss).backward()\n",
    "        scaler.step(optimizer)\n",
    "        scaler.update()\n",
    "\n",
    "        running_loss += loss.item() * xb.size(0)\n",
    "        pbar.set_postfix(loss=f\"{loss.item():.4f}\")\n",
    "\n",
    "    train_loss = running_loss / len(train_loader.dataset)\n",
    "\n",
    "    model.eval()\n",
    "    val_running_loss = 0.0\n",
    "    all_probs, all_labels = [], []\n",
    "    with torch.no_grad(), autocast(enabled=True):\n",
    "        pbar_val = tqdm(val_loader, desc=f\"Epoch {epoch}/{EPOCHS} [val]  \", leave=False)\n",
    "        for xb, yb in pbar_val:\n",
    "            xb, yb = xb.to(device, non_blocking=True), yb.to(device, non_blocking=True)\n",
    "            logits, probs, conf = model(xb)\n",
    "            per_sample_loss = criterion(logits, yb)\n",
    "            batch_loss = (per_sample_loss * torch.clamp(conf, 0.1, 1.0)).mean()\n",
    "            val_running_loss += batch_loss.item() * xb.size(0)\n",
    "\n",
    "            probs = torch.sigmoid(logits).detach().cpu().numpy().ravel()\n",
    "            labels = yb.detach().cpu().numpy().ravel()\n",
    "            all_probs.extend(probs.tolist())\n",
    "            all_labels.extend(labels.tolist())\n",
    "\n",
    "    val_loss = val_running_loss / len(val_loader.dataset)\n",
    "    metrics = compute_metrics(np.array(all_labels), np.array(all_probs), threshold=0.5)\n",
    "\n",
    "    history[\"train_loss\"].append(train_loss)\n",
    "    history[\"val_loss\"].append(val_loss)\n",
    "    history[\"val_acc\"].append(metrics[\"acc\"])\n",
    "    history[\"val_auc\"].append(metrics[\"auc\"])\n",
    "    history[\"val_f1\"].append(metrics[\"f1\"])\n",
    "\n",
    "    # print concise epoch summary\n",
    "    print(f\"Epoch {epoch}/{EPOCHS} | \"\n",
    "          f\"Train {train_loss:.4f} | Val {val_loss:.4f} | \"\n",
    "          f\"AUC {metrics['auc']:.4f} | Acc {metrics['acc']:.4f} | F1 {metrics['f1']:.4f}\")\n",
    "\n",
    "    if metrics[\"auc\"] > best_val_auc + 1e-6:\n",
    "        best_val_auc = metrics[\"auc\"]\n",
    "        torch.save(model.state_dict(), os.path.join(CKPT_DIR, \"model_weights_best.pth\"))\n",
    "        torch.save(model, os.path.join(CKPT_DIR, \"tumornet_best.pkl\"))\n",
    "        print(\"✅ Saved best checkpoint (by AUC)\")\n",
    "\n",
    "    early.step(1.0 - metrics[\"auc\"])  \n",
    "    if early.should_stop:\n",
    "        print(\"⏹️ Early stopping triggered\")\n",
    "        break\n",
    "\n",
    "    scheduler.step(epoch)"
   ]
  },
  {
   "cell_type": "code",
   "execution_count": 7,
   "id": "26e82bf3",
   "metadata": {},
   "outputs": [
    {
     "data": {
      "image/png": "[encoded data removed]",
      "text/plain": [
       "<Figure size 800x400 with 1 Axes>"
      ]
     },
     "metadata": {},
     "output_type": "display_data"
    },
    {
     "data": {
      "image/png": "[encoded data removed]",
      "text/plain": [
       "<Figure size 800x400 with 1 Axes>"
      ]
     },
     "metadata": {},
     "output_type": "display_data"
    }
   ],
   "source": [
    "plt.figure(figsize=(8,4))\n",
    "plt.plot(history[\"train_loss\"], label=\"train\")\n",
    "plt.plot(history[\"val_loss\"], label=\"val\")\n",
    "plt.xlabel(\"Epoch\"); plt.ylabel(\"Loss\"); plt.title(\"Loss curves\")\n",
    "plt.legend(); plt.tight_layout()\n",
    "plt.savefig(os.path.join(VIZ_DIR, \"loss_curves.png\")); plt.show()\n",
    "\n",
    "plt.figure(figsize=(8,4))\n",
    "plt.plot(history[\"val_auc\"], label=\"Val AUC\")\n",
    "plt.plot(history[\"val_acc\"], label=\"Val Acc\")\n",
    "plt.plot(history[\"val_f1\"],  label=\"Val F1\")\n",
    "plt.xlabel(\"Epoch\"); plt.ylabel(\"Score\"); plt.title(\"Validation metrics\")\n",
    "plt.legend(); plt.tight_layout()\n",
    "plt.savefig(os.path.join(VIZ_DIR, \"val_metrics.png\")); plt.show()"
   ]
  },
  {
   "cell_type": "code",
   "execution_count": 8,
   "id": "8d65309a",
   "metadata": {},
   "outputs": [
    {
     "name": "stdout",
     "output_type": "stream",
     "text": [
      "✅ Training complete. Artifacts saved to:\n",
      "../results\n"
     ]
    }
   ],
   "source": [
    "torch.save(model.state_dict(), os.path.join(CKPT_DIR, \"model_weights_last.pth\"))\n",
    "torch.save(model, os.path.join(CKPT_DIR, \"tumornet_last.pkl\"))\n",
    "\n",
    "dummy = torch.randn(1,3,224,224, device=device)\n",
    "torch.onnx.export(model, dummy, os.path.join(CKPT_DIR, \"tumornet.onnx\"),\n",
    "                  input_names=[\"input\"], output_names=[\"logits_conf\"], opset_version=12)\n",
    "\n",
    "save_json(os.path.join(ROOT_RESULTS, \"metrics.json\"), {\n",
    "    \"history\": history,\n",
    "    \"best_val_auc\": float(best_val_auc),\n",
    "    \"epochs_run\": len(history[\"train_loss\"])\n",
    "})\n",
    "\n",
    "print(f\"✅ Training complete. Artifacts saved to:\\n{ROOT_RESULTS}\")"
   ]
  }
 ],
 "metadata": {
  "kernelspec": {
   "display_name": "tf-gpu",
   "language": "python",
   "name": "python3"
  },
  "language_info": {
   "codemirror_mode": {
    "name": "ipython",
    "version": 3
   },
   "file_extension": ".py",
   "mimetype": "text/x-python",
   "name": "python",
   "nbconvert_exporter": "python",
   "pygments_lexer": "ipython3",
   "version": "3.8.20"
  }
 },
 "nbformat": 4,
 "nbformat_minor": 5
}
